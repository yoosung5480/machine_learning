{
 "cells": [
  {
   "cell_type": "code",
   "execution_count": 20,
   "metadata": {},
   "outputs": [
    {
     "data": {
      "text/html": [
       "<div>\n",
       "<style scoped>\n",
       "    .dataframe tbody tr th:only-of-type {\n",
       "        vertical-align: middle;\n",
       "    }\n",
       "\n",
       "    .dataframe tbody tr th {\n",
       "        vertical-align: top;\n",
       "    }\n",
       "\n",
       "    .dataframe thead th {\n",
       "        text-align: right;\n",
       "    }\n",
       "</style>\n",
       "<table border=\"1\" class=\"dataframe\">\n",
       "  <thead>\n",
       "    <tr style=\"text-align: right;\">\n",
       "      <th></th>\n",
       "      <th>1</th>\n",
       "      <th>14.23</th>\n",
       "      <th>1.71</th>\n",
       "      <th>2.43</th>\n",
       "      <th>15.6</th>\n",
       "      <th>127</th>\n",
       "      <th>2.8</th>\n",
       "      <th>3.06</th>\n",
       "      <th>.28</th>\n",
       "      <th>2.29</th>\n",
       "      <th>5.64</th>\n",
       "      <th>1.04</th>\n",
       "      <th>3.92</th>\n",
       "      <th>1065</th>\n",
       "    </tr>\n",
       "  </thead>\n",
       "  <tbody>\n",
       "    <tr>\n",
       "      <th>0</th>\n",
       "      <td>1</td>\n",
       "      <td>13.20</td>\n",
       "      <td>1.78</td>\n",
       "      <td>2.14</td>\n",
       "      <td>11.2</td>\n",
       "      <td>100</td>\n",
       "      <td>2.65</td>\n",
       "      <td>2.76</td>\n",
       "      <td>0.26</td>\n",
       "      <td>1.28</td>\n",
       "      <td>4.38</td>\n",
       "      <td>1.05</td>\n",
       "      <td>3.40</td>\n",
       "      <td>1050</td>\n",
       "    </tr>\n",
       "    <tr>\n",
       "      <th>1</th>\n",
       "      <td>1</td>\n",
       "      <td>13.16</td>\n",
       "      <td>2.36</td>\n",
       "      <td>2.67</td>\n",
       "      <td>18.6</td>\n",
       "      <td>101</td>\n",
       "      <td>2.80</td>\n",
       "      <td>3.24</td>\n",
       "      <td>0.30</td>\n",
       "      <td>2.81</td>\n",
       "      <td>5.68</td>\n",
       "      <td>1.03</td>\n",
       "      <td>3.17</td>\n",
       "      <td>1185</td>\n",
       "    </tr>\n",
       "    <tr>\n",
       "      <th>2</th>\n",
       "      <td>1</td>\n",
       "      <td>14.37</td>\n",
       "      <td>1.95</td>\n",
       "      <td>2.50</td>\n",
       "      <td>16.8</td>\n",
       "      <td>113</td>\n",
       "      <td>3.85</td>\n",
       "      <td>3.49</td>\n",
       "      <td>0.24</td>\n",
       "      <td>2.18</td>\n",
       "      <td>7.80</td>\n",
       "      <td>0.86</td>\n",
       "      <td>3.45</td>\n",
       "      <td>1480</td>\n",
       "    </tr>\n",
       "    <tr>\n",
       "      <th>3</th>\n",
       "      <td>1</td>\n",
       "      <td>13.24</td>\n",
       "      <td>2.59</td>\n",
       "      <td>2.87</td>\n",
       "      <td>21.0</td>\n",
       "      <td>118</td>\n",
       "      <td>2.80</td>\n",
       "      <td>2.69</td>\n",
       "      <td>0.39</td>\n",
       "      <td>1.82</td>\n",
       "      <td>4.32</td>\n",
       "      <td>1.04</td>\n",
       "      <td>2.93</td>\n",
       "      <td>735</td>\n",
       "    </tr>\n",
       "    <tr>\n",
       "      <th>4</th>\n",
       "      <td>1</td>\n",
       "      <td>14.20</td>\n",
       "      <td>1.76</td>\n",
       "      <td>2.45</td>\n",
       "      <td>15.2</td>\n",
       "      <td>112</td>\n",
       "      <td>3.27</td>\n",
       "      <td>3.39</td>\n",
       "      <td>0.34</td>\n",
       "      <td>1.97</td>\n",
       "      <td>6.75</td>\n",
       "      <td>1.05</td>\n",
       "      <td>2.85</td>\n",
       "      <td>1450</td>\n",
       "    </tr>\n",
       "    <tr>\n",
       "      <th>...</th>\n",
       "      <td>...</td>\n",
       "      <td>...</td>\n",
       "      <td>...</td>\n",
       "      <td>...</td>\n",
       "      <td>...</td>\n",
       "      <td>...</td>\n",
       "      <td>...</td>\n",
       "      <td>...</td>\n",
       "      <td>...</td>\n",
       "      <td>...</td>\n",
       "      <td>...</td>\n",
       "      <td>...</td>\n",
       "      <td>...</td>\n",
       "      <td>...</td>\n",
       "    </tr>\n",
       "    <tr>\n",
       "      <th>172</th>\n",
       "      <td>3</td>\n",
       "      <td>13.71</td>\n",
       "      <td>5.65</td>\n",
       "      <td>2.45</td>\n",
       "      <td>20.5</td>\n",
       "      <td>95</td>\n",
       "      <td>1.68</td>\n",
       "      <td>0.61</td>\n",
       "      <td>0.52</td>\n",
       "      <td>1.06</td>\n",
       "      <td>7.70</td>\n",
       "      <td>0.64</td>\n",
       "      <td>1.74</td>\n",
       "      <td>740</td>\n",
       "    </tr>\n",
       "    <tr>\n",
       "      <th>173</th>\n",
       "      <td>3</td>\n",
       "      <td>13.40</td>\n",
       "      <td>3.91</td>\n",
       "      <td>2.48</td>\n",
       "      <td>23.0</td>\n",
       "      <td>102</td>\n",
       "      <td>1.80</td>\n",
       "      <td>0.75</td>\n",
       "      <td>0.43</td>\n",
       "      <td>1.41</td>\n",
       "      <td>7.30</td>\n",
       "      <td>0.70</td>\n",
       "      <td>1.56</td>\n",
       "      <td>750</td>\n",
       "    </tr>\n",
       "    <tr>\n",
       "      <th>174</th>\n",
       "      <td>3</td>\n",
       "      <td>13.27</td>\n",
       "      <td>4.28</td>\n",
       "      <td>2.26</td>\n",
       "      <td>20.0</td>\n",
       "      <td>120</td>\n",
       "      <td>1.59</td>\n",
       "      <td>0.69</td>\n",
       "      <td>0.43</td>\n",
       "      <td>1.35</td>\n",
       "      <td>10.20</td>\n",
       "      <td>0.59</td>\n",
       "      <td>1.56</td>\n",
       "      <td>835</td>\n",
       "    </tr>\n",
       "    <tr>\n",
       "      <th>175</th>\n",
       "      <td>3</td>\n",
       "      <td>13.17</td>\n",
       "      <td>2.59</td>\n",
       "      <td>2.37</td>\n",
       "      <td>20.0</td>\n",
       "      <td>120</td>\n",
       "      <td>1.65</td>\n",
       "      <td>0.68</td>\n",
       "      <td>0.53</td>\n",
       "      <td>1.46</td>\n",
       "      <td>9.30</td>\n",
       "      <td>0.60</td>\n",
       "      <td>1.62</td>\n",
       "      <td>840</td>\n",
       "    </tr>\n",
       "    <tr>\n",
       "      <th>176</th>\n",
       "      <td>3</td>\n",
       "      <td>14.13</td>\n",
       "      <td>4.10</td>\n",
       "      <td>2.74</td>\n",
       "      <td>24.5</td>\n",
       "      <td>96</td>\n",
       "      <td>2.05</td>\n",
       "      <td>0.76</td>\n",
       "      <td>0.56</td>\n",
       "      <td>1.35</td>\n",
       "      <td>9.20</td>\n",
       "      <td>0.61</td>\n",
       "      <td>1.60</td>\n",
       "      <td>560</td>\n",
       "    </tr>\n",
       "  </tbody>\n",
       "</table>\n",
       "<p>177 rows × 14 columns</p>\n",
       "</div>"
      ],
      "text/plain": [
       "     1  14.23  1.71  2.43  15.6  127   2.8  3.06   .28  2.29   5.64  1.04  \\\n",
       "0    1  13.20  1.78  2.14  11.2  100  2.65  2.76  0.26  1.28   4.38  1.05   \n",
       "1    1  13.16  2.36  2.67  18.6  101  2.80  3.24  0.30  2.81   5.68  1.03   \n",
       "2    1  14.37  1.95  2.50  16.8  113  3.85  3.49  0.24  2.18   7.80  0.86   \n",
       "3    1  13.24  2.59  2.87  21.0  118  2.80  2.69  0.39  1.82   4.32  1.04   \n",
       "4    1  14.20  1.76  2.45  15.2  112  3.27  3.39  0.34  1.97   6.75  1.05   \n",
       "..  ..    ...   ...   ...   ...  ...   ...   ...   ...   ...    ...   ...   \n",
       "172  3  13.71  5.65  2.45  20.5   95  1.68  0.61  0.52  1.06   7.70  0.64   \n",
       "173  3  13.40  3.91  2.48  23.0  102  1.80  0.75  0.43  1.41   7.30  0.70   \n",
       "174  3  13.27  4.28  2.26  20.0  120  1.59  0.69  0.43  1.35  10.20  0.59   \n",
       "175  3  13.17  2.59  2.37  20.0  120  1.65  0.68  0.53  1.46   9.30  0.60   \n",
       "176  3  14.13  4.10  2.74  24.5   96  2.05  0.76  0.56  1.35   9.20  0.61   \n",
       "\n",
       "     3.92  1065  \n",
       "0    3.40  1050  \n",
       "1    3.17  1185  \n",
       "2    3.45  1480  \n",
       "3    2.93   735  \n",
       "4    2.85  1450  \n",
       "..    ...   ...  \n",
       "172  1.74   740  \n",
       "173  1.56   750  \n",
       "174  1.56   835  \n",
       "175  1.62   840  \n",
       "176  1.60   560  \n",
       "\n",
       "[177 rows x 14 columns]"
      ]
     },
     "execution_count": 20,
     "metadata": {},
     "output_type": "execute_result"
    }
   ],
   "source": [
    "import numpy as np\n",
    "from sklearn import datasets\n",
    "import pandas as pd\n",
    "\n",
    "df_wine = pd.read_csv('https://archive.ics.uci.edu/ml/machine-learning-databases/wine/wine.data')\n",
    "# df_wine.columns = ['Class label', \n",
    "#                    'Alcohol', \n",
    "#                    'Malic acid', \n",
    "#                    'Ash',\n",
    "#                    'Alcanlinity of Ash', \n",
    "#                    'Magnesium',\n",
    "#                    'Total phenols',\n",
    "#                    'Flavanoids',\n",
    "#                    'Nonflavanoid phenols',\n",
    "#                    'Proanthocyanins',\n",
    "#                    'Color intensity', \n",
    "#                    'Hue',\n",
    "#                    '0D280/0D315 of diluted wines',\n",
    "#                    'proline']\n",
    "df_wine\n"
   ]
  },
  {
   "cell_type": "code",
   "execution_count": 21,
   "metadata": {},
   "outputs": [],
   "source": [
    "from sklearn.model_selection import train_test_split\n",
    "\n",
    "# X는 두번째부터 마지막 모든 열(13개)\n",
    "# y는 데이터프레임에서 가장 첫번째 열(1개)\n",
    "X, y = df_wine.iloc[:, 1:].values , df_wine.iloc[:,0].values\n",
    "X_train, X_test, y_train, y_test = train_test_split(X, y,\n",
    "                                                    test_size= 0.3, # test는 전체의 30%\n",
    "                                                    random_state=0, \n",
    "                                                    stratify=y)"
   ]
  },
  {
   "cell_type": "code",
   "execution_count": 22,
   "metadata": {},
   "outputs": [],
   "source": [
    "from sklearn.preprocessing import StandardScaler\n",
    "# 표준화\n",
    "stdsc = StandardScaler()\n",
    "X_train_std = stdsc.fit_transform(X_train)\n",
    "X_test_std = stdsc.fit_transform(X_test)"
   ]
  },
  {
   "cell_type": "markdown",
   "metadata": {},
   "source": [
    "LDA 수행에 필요한단계.\n",
    "LDA목표, 클래쓰 내의 분산을 최소하하고, 클래쓰 끼리의 분산은 최대화한다!\n",
    "\n",
    "1. 데이터셋을 표준화 전처리한다.\n",
    "2. 각 클래쓰에 대해 d차원 평균벡터를 계산한다.\n",
    "3. 클래스 간의 산포행렬과 클래쓰 내 산포행렬을 구성한다.\n",
    "4. 클래스 내의 산포행렬의 역행렬 x 클래스 간의 산포행렬 의 고유벡터와 고윳값을 계산한다.\n",
    "5. 고윳값 순서대로 내림차순해서 변환행렬의 차원을 결정한다. (w 행렬 결정)\n",
    "6. 변환행렬을 데이터셋에 .dot(w)적용해서 변환한다."
   ]
  },
  {
   "cell_type": "code",
   "execution_count": 23,
   "metadata": {},
   "outputs": [
    {
     "name": "stdout",
     "output_type": "stream",
     "text": [
      "MV 1: [ 0.8807 -0.3428  0.2687 -0.8193  0.4718  0.8881  0.9597 -0.6325  0.4794\n",
      "  0.2394  0.5838  0.6963  1.2367]\n",
      "\n",
      "MV 2: [-0.8811 -0.2894 -0.3636  0.3329 -0.398  -0.0317  0.0938 -0.0514  0.137\n",
      " -0.8377  0.3394  0.3511 -0.7462]\n",
      "\n",
      "MV 3: [ 0.2336  0.8204  0.208   0.4841  0.0186 -0.9991 -1.2643  0.8182 -0.7615\n",
      "  0.9256 -1.1759 -1.3252 -0.3796]\n",
      "\n"
     ]
    }
   ],
   "source": [
    "np.set_printoptions(precision=4)# 넘파이 배열이 출력할때 소수점4자리 까지만 표시 옵션,\n",
    "mean_vecs = []\n",
    "\n",
    "# wine데이터셋에서 3개의 특성에 대해 평균 벡터 만들기\n",
    "for label in range(1, 4):\n",
    "    mean_vecs.append(np.mean(\n",
    "        X_train_std[y_train==label], axis=0))\n",
    "    print('MV %s: %s\\n' %(label, mean_vecs[label-1]))\n",
    "\n"
   ]
  },
  {
   "cell_type": "code",
   "execution_count": 24,
   "metadata": {},
   "outputs": [
    {
     "name": "stdout",
     "output_type": "stream",
     "text": [
      "클래쓰 내의 산포행렬: 13x13\n"
     ]
    }
   ],
   "source": [
    "d = d = X_train_std.shape[1] # 특성의 개수\n",
    "S_W = np.zeros((d, d))\n",
    "\n",
    "for label, mv in zip(range(1,4), mean_vecs):\n",
    "    class_scatter = np.zeros((d, d)) # 각 클래쓰에 대한 산포행렬을 0으로 초기화한다.\n",
    "    for row in X_train_std[y_train == label]: # label에 해당하는 X_train_std의 모든 샘플에 대해 반복한다\n",
    "\n",
    "        # 각 샘플과 클래스의 평균 벡터 간의 차이를 벡터형태로 계산한다.\n",
    "        row, mv = row.reshape(d, 1), mv.reshape(d, 1)   # row, mv는 현재 1xd 벡터임으로 dx1벡터로 변환한다.\n",
    "        class_scatter += (row - mv).dot((row-mv).T)     # 각 샘플과 클래스의 평균 벡터 간의 차이 계산\n",
    "    S_W += class_scatter    #총 클래스 내 산포 행렬 업데이트\n",
    "\n",
    "print('클래쓰 내의 산포행렬: %sx%s' %(S_W.shape[0], S_W.shape[1]))"
   ]
  },
  {
   "cell_type": "code",
   "execution_count": 25,
   "metadata": {},
   "outputs": [
    {
     "name": "stdout",
     "output_type": "stream",
     "text": [
      "클래쓰 조정된 클래스 내의 산포행렬: 13x13\n",
      "클래쓰 간의 산포행렬: 13x13\n"
     ]
    }
   ],
   "source": [
    "d = d = X_train_std.shape[1] # 특성의 개수\n",
    "S_W = np.zeros((d, d))\n",
    "\n",
    "for label, mv in zip(range(1,4), mean_vecs):\n",
    "    class_scatter = np.cov(X_train_std[y_train==label].T) # 각 클래쓰에 대한 산포행렬을 0으로 초기화한다.\n",
    "    S_W += class_scatter    #총 클래스 내 산포 행렬 업데이트\n",
    "print('클래쓰 조정된 클래스 내의 산포행렬: %sx%s' %(S_W.shape[0], S_W.shape[1]))\n",
    "\n",
    "mean_overall = np.mean(X_test_std, axis=0)# 데이터셋의 모든 샘플에 대한 평균을 계산한다. aixs=0을 통해서 열 단위 평균을 계산한다.\n",
    "mean_overall = mean_overall.reshape(d, 1) # 행벡터를 열벡터로 만들기\n",
    "\n",
    "d = d = X_train_std.shape[1]# 특성의 개수\n",
    "S_B = np.zeros((d, d))      # 클래쓰 끼리의 산포행렬을 d x d 크기의 값이 0인 튜플로 초기화한다 \n",
    "for i, mean_vec in enumerate(mean_vecs): # enumerate는 인덱스와, 이터레이터의 값을 동시에 제공\n",
    "    n = X_train[y_train == i + 1, :].shape[0]   #마친 mean_vecs는 3개의 벡터라서 이렇게 한거같다. y_train값과 mean_vecs의 인덱스 값은 실제론 무관하다.\n",
    "    mean_vec = mean_vec.reshape(d, 1)   # 열 벡터로 만들기\n",
    "    S_B += n * (mean_vec - mean_overall).dot((mean_vec - mean_overall).T)\n",
    "print('클래쓰 간의 산포행렬: %sx%s' %(S_B.shape[0], S_B.shape[1]))"
   ]
  },
  {
   "cell_type": "code",
   "execution_count": 28,
   "metadata": {},
   "outputs": [
    {
     "name": "stdout",
     "output_type": "stream",
     "text": [
      "내림차순의 고윳값\n",
      "\n",
      "367.6327707926619\n",
      "163.5777142799625\n",
      "3.39196580780033e-14\n",
      "3.39196580780033e-14\n",
      "2.842170943040401e-14\n",
      "2.8020664631362964e-14\n",
      "2.8020664631362964e-14\n",
      "1.0506645130553528e-14\n",
      "6.526015968985906e-15\n",
      "6.526015968985906e-15\n",
      "3.969132076927008e-15\n",
      "3.969132076927008e-15\n",
      "1.0660427161277914e-16\n"
     ]
    }
   ],
   "source": [
    "# 고유벡터와 고윳값 쌍을 계산.\n",
    "eigen_vals, eigen_vecs = np.linalg.eig(np.linalg.inv(S_W).dot(S_B))\n",
    "# eigen_vals, eigen_vecs 튜플 쌍 만들기\n",
    "eigen_pairs = [(np.abs(eigen_vals[i]), eigen_vecs[:, i]) for i in range(len(eigen_vals))]\n",
    "# eigen_val 값 기준으로 내림차순 정렬하기\n",
    "eigen_pairs = sorted(eigen_pairs, key=lambda k : k[0], reverse=True)\n",
    "print('내림차순의 고윳값\\n')\n",
    "\n",
    "for eigein_val in eigen_pairs:\n",
    "    print(eigein_val[0])\n",
    "\n"
   ]
  },
  {
   "cell_type": "code",
   "execution_count": 29,
   "metadata": {},
   "outputs": [
    {
     "data": {
      "image/png": "[encoded data removed]",
      "text/plain": [
       "<Figure size 640x480 with 1 Axes>"
      ]
     },
     "metadata": {},
     "output_type": "display_data"
    }
   ],
   "source": [
    "import matplotlib.pyplot as plt\n",
    "\n",
    "tot = sum(eigen_vals.real)\n",
    "discr = [(i / tot ) for i in sorted(eigen_vals.real, reverse=True)]\n",
    "sum_discr = np.cumsum(discr)\n",
    "plt.bar(range(1, 14), discr, alpha = 0.5, align='center', label = 'Individual Discrimnability')    # 분산의 크기에 대한 막대그래프 \n",
    "plt.step(range(1, 14), sum_discr, alpha = 0.5, where='mid', label = 'Cumulative Discrimnability')  # 누적 분포에 표현 계단그래프\n",
    "plt.ylabel('Discrimnability ratio')\n",
    "plt.xlabel('linear discriminants')\n",
    "plt.legend(loc = 'best')\n",
    "plt.tight_layout()\n",
    "plt.show()\n"
   ]
  },
  {
   "cell_type": "markdown",
   "metadata": {},
   "source": [
    "3개의 추출된 특성중, 2개의 선형 판별 벡터가 Wine에 있는 정보를 거의 100퍼센트 잡아낸다.\n",
    "즉, 2개의 판별 고유벡터를 선택해서 변환행렬W를 생성할수있다."
   ]
  },
  {
   "cell_type": "code",
   "execution_count": 30,
   "metadata": {},
   "outputs": [
    {
     "name": "stdout",
     "output_type": "stream",
     "text": [
      "행렬 w:\n",
      " [[-0.1178 -0.3454]\n",
      " [ 0.0538 -0.1982]\n",
      " [ 0.0132 -0.2757]\n",
      " [ 0.1464  0.2765]\n",
      " [-0.0114 -0.0372]\n",
      " [ 0.1857  0.0709]\n",
      " [-0.7478  0.2596]\n",
      " [-0.0529  0.0567]\n",
      " [ 0.0094  0.1547]\n",
      " [ 0.2737 -0.2711]\n",
      " [-0.0899  0.24  ]\n",
      " [-0.3504  0.0053]\n",
      " [-0.399  -0.676 ]]\n"
     ]
    }
   ],
   "source": [
    "w = np.hstack((eigen_pairs[0][1][:, np.newaxis].real,\n",
    "               eigen_pairs[1][1][:, np.newaxis].real))\n",
    "print('행렬 w:\\n', w)"
   ]
  },
  {
   "cell_type": "markdown",
   "metadata": {},
   "source": [
    "이젠 위에서 구한 변환 행렬을 이용해서 샘플을 실제로 투영시켜 볼것이다."
   ]
  },
  {
   "cell_type": "code",
   "execution_count": 31,
   "metadata": {},
   "outputs": [
    {
     "data": {
      "image/png": "[encoded data removed]",
      "text/plain": [
       "<Figure size 640x480 with 1 Axes>"
      ]
     },
     "metadata": {},
     "output_type": "display_data"
    }
   ],
   "source": [
    "X_train_lda = X_train_std.dot(w)\n",
    "\n",
    "colors = ['r', 'b', 'g']\n",
    "markers = ['s', 'x', 'o']\n",
    "for l, c, m in zip(np.unique(y_train), colors, markers):\n",
    "    plt.scatter(X_train_lda[y_train==l, 0],\n",
    "                X_train_lda[y_train==l, 1],\n",
    "                c = c,\n",
    "                label = l,\n",
    "                marker= m)\n",
    "plt.xlabel('PC 1')\n",
    "plt.ylabel('PC 2')\n",
    "plt.legend(loc='lower left')\n",
    "plt.tight_layout()\n",
    "plt.show()"
   ]
  },
  {
   "cell_type": "markdown",
   "metadata": {},
   "source": [
    "위의 과정을 사이킷런 모델의 LDA를 이용해서 동일한 작업을 다시 수행해볼것이다."
   ]
  },
  {
   "cell_type": "code",
   "execution_count": 32,
   "metadata": {},
   "outputs": [
    {
     "name": "stderr",
     "output_type": "stream",
     "text": [
      "/home/viplab/바탕화면/machine_learning_study/머신러닝교과서/데이터 전처리/특성추출/PDR.py:26: UserWarning: You passed a edgecolor/edgecolors ('black') for an unfilled marker ('x').  Matplotlib is ignoring the edgecolor in favor of the facecolor.  This behavior may change in the future.\n",
      "  label=cl, edgecolor='black')\n"
     ]
    },
    {
     "data": {
      "image/png": "[encoded data removed]",
      "text/plain": [
       "<Figure size 640x480 with 1 Axes>"
      ]
     },
     "metadata": {},
     "output_type": "display_data"
    }
   ],
   "source": [
    "from sklearn.discriminant_analysis import LinearDiscriminantAnalysis as LDA\n",
    "\n",
    "lda = LDA(n_components=2) # 추출한 특성의 개수를 2개로 명시\n",
    "X_train_lda = lda.fit_transform(X_train_std, y_train) # 행렬 변환 실행 + 지도학습임으로 y_train이 제공된다.\n",
    "\n",
    "# 로지스틱 회귀 분류를 이용해서 실제로 데이터 분류해보기\n",
    "import PDR\n",
    "from sklearn.linear_model import LogisticRegression\n",
    "from sklearn.decomposition import PCA\n",
    "\n",
    "# PCA, 로지스틱회기 분류기 초기화\n",
    "lr = LogisticRegression(random_state=1)\n",
    "lr.fit(X_train_lda, y_train)\n",
    "\n",
    "# 분류된 결과를 시각적으로 표시\n",
    "PDR.plot_decision_regions(X_train_lda, y_train, classifier=lr)\n",
    "plt.xlabel('LD 1')\n",
    "plt.xlabel('LD 2')\n",
    "plt.legend(loc = 'lower left')\n",
    "plt.tight_layout()\n",
    "plt.show()"
   ]
  }
 ],
 "metadata": {
  "kernelspec": {
   "display_name": "myenv",
   "language": "python",
   "name": "python3"
  },
  "language_info": {
   "codemirror_mode": {
    "name": "ipython",
    "version": 3
   },
   "file_extension": ".py",
   "mimetype": "text/x-python",
   "name": "python",
   "nbconvert_exporter": "python",
   "pygments_lexer": "ipython3",
   "version": "3.7.2"
  }
 },
 "nbformat": 4,
 "nbformat_minor": 2
}
